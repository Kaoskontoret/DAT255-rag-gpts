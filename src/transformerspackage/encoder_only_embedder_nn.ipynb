{
 "cells": [
  {
   "cell_type": "code",
   "execution_count": 2,
   "metadata": {},
   "outputs": [],
   "source": [
    "import tensorflow as tf\n",
    "from tensorflow import keras\n",
    "from tensorflow.keras import layers\n",
    "import numpy as np\n",
    "import re"
   ]
  },
  {
   "cell_type": "code",
   "execution_count": 3,
   "metadata": {},
   "outputs": [
    {
     "name": "stdout",
     "output_type": "stream",
     "text": [
      "Number of Nynorsk sentences: 50000\n"
     ]
    }
   ],
   "source": [
    "from datasets import load_dataset\n",
    "def load_nynorsk_sentences(limit=50000):\n",
    "    dataset = load_dataset(\"NbAiLab/NCC\", streaming=True)\n",
    "    train_stream = dataset[\"train\"]\n",
    "    sentences = []\n",
    "    for example in train_stream:\n",
    "        if example.get(\"lang_fasttext\") == \"nn\":\n",
    "            text = example[\"text\"]\n",
    "            for s in re.split(r\"[.!?]\\\\s+\", text):\n",
    "                if len(s.split()) > 3:\n",
    "                    sentences.append(s.strip())\n",
    "        if len(sentences) >= limit:\n",
    "            break\n",
    "    return sentences\n",
    "\n",
    "nynorsk_sentences = load_nynorsk_sentences()\n",
    "print(\"Number of Nynorsk sentences:\", len(nynorsk_sentences))"
   ]
  },
  {
   "cell_type": "code",
   "execution_count": null,
   "metadata": {},
   "outputs": [],
   "source": [
    "# PARAMETERS\n",
    "VOCAB_SIZE = 30000\n",
    "N_SEGMENTS = 3\n",
    "MAX_LENGTH = 512\n",
    "EMBEDDING_DIM = 768\n",
    "N_LAYERS = 12\n",
    "ATTN_HEADS = 12\n",
    "DROPOUT_RATE = 0.1\n",
    "\n",
    "\n",
    "\n"
   ]
  },
  {
   "cell_type": "code",
   "execution_count": 6,
   "metadata": {},
   "outputs": [],
   "source": [
    "import torch\n",
    "import torch.nn as nn\n",
    "class BERTEmbedding(nn.Module):\n",
    "    def __init__(self, vocab_size, n_segments, max_length, embedding_dim, dropout_rate):\n",
    "        super().___init__()\n",
    "        self.token_embedding = nn.Embedding(vocab_size, embedding_dim)\n",
    "        self.segment_embedding = nn.Embedding(n_segments, embedding_dim)\n",
    "        self.position_embedding = nn.Embedding(max_length, embedding_dim)\n",
    "\n",
    "        self.dropout = nn.Dropout(dropout_rate)\n",
    "        self.pos_input = torch.tensor([[i for i in range(max_length)]])\n",
    "\n",
    "    def forward(self, seq, seg):\n",
    "        embed_values = self.token_embedding(seq) + self.segment_embedding(seg) + self.position_embedding(self.pos_input)\n",
    "        return embed_values"
   ]
  },
  {
   "cell_type": "code",
   "execution_count": 7,
   "metadata": {},
   "outputs": [
    {
     "ename": "NameError",
     "evalue": "name 'VOCAB_SIZE' is not defined",
     "output_type": "error",
     "traceback": [
      "\u001b[31m---------------------------------------------------------------------------\u001b[39m",
      "\u001b[31mNameError\u001b[39m                                 Traceback (most recent call last)",
      "\u001b[36mCell\u001b[39m\u001b[36m \u001b[39m\u001b[32mIn[7]\u001b[39m\u001b[32m, line 1\u001b[39m\n\u001b[32m----> \u001b[39m\u001b[32m1\u001b[39m sample_seq = torch.randint(high = \u001b[43mVOCAB_SIZE\u001b[49m, size = (MAX_LENGTH, ))\n\u001b[32m      2\u001b[39m sample_seg = torch.randint(high = N_SEGMENTS, size = (MAX_LENGTH, ))\n\u001b[32m      4\u001b[39m embedding = BERTEmbedding(VOCAB_SIZE, N_SEGMENTS, MAX_LENGTH, EMBEDDING_DIM, DROPOUT_RATE)\n",
      "\u001b[31mNameError\u001b[39m: name 'VOCAB_SIZE' is not defined"
     ]
    }
   ],
   "source": [
    "sample_seq = torch.randint(high = VOCAB_SIZE, size = (MAX_LENGTH, ))\n",
    "sample_seg = torch.randint(high = N_SEGMENTS, size = (MAX_LENGTH, ))\n",
    "\n",
    "embedding = BERTEmbedding(VOCAB_SIZE, N_SEGMENTS, MAX_LENGTH, EMBEDDING_DIM, DROPOUT_RATE)\n",
    "embedding_tensor = embedding(sample_seq, sample_seg)\n",
    "print(\"Embedding tensor shape:\", embedding_tensor.shape)"
   ]
  },
  {
   "cell_type": "code",
   "execution_count": null,
   "metadata": {},
   "outputs": [],
   "source": []
  }
 ],
 "metadata": {
  "kernelspec": {
   "display_name": "venv",
   "language": "python",
   "name": "python3"
  },
  "language_info": {
   "codemirror_mode": {
    "name": "ipython",
    "version": 3
   },
   "file_extension": ".py",
   "mimetype": "text/x-python",
   "name": "python",
   "nbconvert_exporter": "python",
   "pygments_lexer": "ipython3",
   "version": "3.12.4"
  }
 },
 "nbformat": 4,
 "nbformat_minor": 2
}
